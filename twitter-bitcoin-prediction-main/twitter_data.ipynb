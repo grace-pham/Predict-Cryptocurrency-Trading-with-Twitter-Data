{
 "cells": [
  {
   "cell_type": "code",
   "execution_count": 1,
   "id": "emerging-makeup",
   "metadata": {},
   "outputs": [],
   "source": [
    "import pandas as pd"
   ]
  },
  {
   "cell_type": "code",
   "execution_count": 6,
   "id": "coated-lewis",
   "metadata": {},
   "outputs": [],
   "source": [
    "tweet_df = pd.read_csv('data/bitcoin_tweets.csv', low_memory = False, skipinitialspace=True)\n",
    "tweet_edited_df = tweet_df.loc[(tweet_df.date >= '2021-04-01 00:00:00') & (tweet_df.date <= '2021-04-30 23:59:59')]"
   ]
  },
  {
   "cell_type": "code",
   "execution_count": 7,
   "id": "promotional-sussex",
   "metadata": {
    "pycharm": {
     "name": "#%%\n"
    }
   },
   "outputs": [],
   "source": [
    "tweet_edited_df.to_csv(r'data/twitter_data_april.csv')\n",
    "\n"
   ]
  }
 ],
 "metadata": {
  "kernelspec": {
   "display_name": "Python 3",
   "language": "python",
   "name": "python3"
  },
  "language_info": {
   "codemirror_mode": {
    "name": "ipython",
    "version": 3
   },
   "file_extension": ".py",
   "mimetype": "text/x-python",
   "name": "python",
   "nbconvert_exporter": "python",
   "pygments_lexer": "ipython3",
   "version": "3.8.1"
  }
 },
 "nbformat": 4,
 "nbformat_minor": 5
}